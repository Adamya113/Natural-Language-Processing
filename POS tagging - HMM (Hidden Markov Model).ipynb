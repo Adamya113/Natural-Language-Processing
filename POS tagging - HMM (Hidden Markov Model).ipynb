{
 "cells": [
  {
   "cell_type": "code",
   "execution_count": 9,
   "id": "be99292d-7432-48c3-869b-49f7b00f90a0",
   "metadata": {},
   "outputs": [
    {
     "name": "stderr",
     "output_type": "stream",
     "text": [
      "[nltk_data] Downloading package brown to\n",
      "[nltk_data]     C:\\Users\\Dell\\AppData\\Roaming\\nltk_data...\n",
      "[nltk_data]   Package brown is already up-to-date!\n",
      "[nltk_data] Downloading package universal_tagset to\n",
      "[nltk_data]     C:\\Users\\Dell\\AppData\\Roaming\\nltk_data...\n",
      "[nltk_data]   Unzipping taggers\\universal_tagset.zip.\n"
     ]
    },
    {
     "data": {
      "text/plain": [
       "True"
      ]
     },
     "execution_count": 9,
     "metadata": {},
     "output_type": "execute_result"
    }
   ],
   "source": [
    "import nltk\n",
    "from nltk.corpus import brown\n",
    "nltk.download(\"brown\")\n",
    "nltk.download(\"universal_tagset\")"
   ]
  },
  {
   "cell_type": "markdown",
   "id": "44313e63-dce4-4f7f-83ed-26cf4ff71cdc",
   "metadata": {},
   "source": [
    "## Step1: Prepare training data"
   ]
  },
  {
   "cell_type": "code",
   "execution_count": 11,
   "id": "eef1a1c9-7275-4658-a190-6a05e4e2a2a7",
   "metadata": {},
   "outputs": [],
   "source": [
    "tagged_sentences = brown.tagged_sents(tagset=\"universal\")\n",
    "# Splitting data into training and testing sets\n",
    "train_data = tagged_sentences[:int(len(tagged_sentences)*(0.8))]\n",
    "test_data = tagged_sentences[int(len(tagged_sentences)*(0.8)):]"
   ]
  },
  {
   "cell_type": "markdown",
   "id": "57aecd73-bcc9-4461-a5ae-fa6a6f3f16f0",
   "metadata": {},
   "source": [
    "## Step2: Train the HMM"
   ]
  },
  {
   "cell_type": "code",
   "execution_count": 12,
   "id": "58ed5485-33fe-4017-984b-24cc96a5f828",
   "metadata": {},
   "outputs": [],
   "source": [
    "hmm_tagger = nltk.HiddenMarkovModelTagger.train(train_data)"
   ]
  },
  {
   "cell_type": "markdown",
   "id": "42397866-1f2b-4e05-83b9-6b0a3af97ac0",
   "metadata": {},
   "source": [
    "## Step3: POS Tagging"
   ]
  },
  {
   "cell_type": "code",
   "execution_count": 13,
   "id": "961e3793-7ce4-4fe7-a9ff-2b7228e77080",
   "metadata": {},
   "outputs": [],
   "source": [
    "sentence = \"The quick  brown fox jumps over the lazy dog.\""
   ]
  },
  {
   "cell_type": "code",
   "execution_count": 15,
   "id": "5a33511c-9454-4c33-b318-70969ad0302a",
   "metadata": {},
   "outputs": [
    {
     "name": "stdout",
     "output_type": "stream",
     "text": [
      "Predicted POS tags:\n",
      "[('The', 'DET'), ('quick', 'ADJ'), ('brown', 'ADJ'), ('fox', 'NOUN'), ('jumps', 'VERB'), ('over', 'ADP'), ('the', 'DET'), ('lazy', 'ADJ'), ('dog', 'NOUN'), ('.', '.')]\n"
     ]
    }
   ],
   "source": [
    "tokenized_sentence = nltk.word_tokenize(sentence)\n",
    "pos_tags = hmm_tagger.tag(tokenized_sentence)\n",
    "print(\"Predicted POS tags:\")\n",
    "print(pos_tags)"
   ]
  },
  {
   "cell_type": "markdown",
   "id": "950971c5-4dd9-4590-b108-79ac15491dc5",
   "metadata": {},
   "source": [
    "## Step4: Evaluation"
   ]
  },
  {
   "cell_type": "code",
   "execution_count": 16,
   "id": "7ffca7a2-77a4-468f-bec6-d7a8d82e59f7",
   "metadata": {},
   "outputs": [
    {
     "name": "stderr",
     "output_type": "stream",
     "text": [
      "C:\\Users\\Dell\\AppData\\Local\\Temp\\ipykernel_2616\\3794322163.py:1: DeprecationWarning: \n",
      "  Function evaluate() has been deprecated.  Use accuracy(gold)\n",
      "  instead.\n",
      "  accuracy = hmm_tagger.evaluate(test_data)\n"
     ]
    },
    {
     "name": "stdout",
     "output_type": "stream",
     "text": [
      "Accuracy: 0.9363852687473148\n"
     ]
    }
   ],
   "source": [
    "accuracy = hmm_tagger.evaluate(test_data)\n",
    "print(\"Accuracy:\", accuracy)"
   ]
  },
  {
   "cell_type": "code",
   "execution_count": null,
   "id": "d1e67a39-618d-4d2c-9b55-6ea871aa37b8",
   "metadata": {},
   "outputs": [],
   "source": []
  }
 ],
 "metadata": {
  "kernelspec": {
   "display_name": "Python 3 (ipykernel)",
   "language": "python",
   "name": "python3"
  },
  "language_info": {
   "codemirror_mode": {
    "name": "ipython",
    "version": 3
   },
   "file_extension": ".py",
   "mimetype": "text/x-python",
   "name": "python",
   "nbconvert_exporter": "python",
   "pygments_lexer": "ipython3",
   "version": "3.10.1"
  }
 },
 "nbformat": 4,
 "nbformat_minor": 5
}
