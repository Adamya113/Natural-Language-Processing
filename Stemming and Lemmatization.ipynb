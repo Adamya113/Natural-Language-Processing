{
 "cells": [
  {
   "cell_type": "markdown",
   "id": "a63b0f31-64c5-4ace-8540-c90bf78a4106",
   "metadata": {},
   "source": [
    "# Stemming and Lemmatization for a Corpus"
   ]
  },
  {
   "cell_type": "code",
   "execution_count": 2,
   "id": "904fd7f0-2549-4861-a0d6-1248cd89488f",
   "metadata": {},
   "outputs": [],
   "source": [
    "import nltk\n",
    "from nltk.tokenize import word_tokenize\n",
    "from nltk.corpus import reuters\n",
    "from nltk.stem import WordNetLemmatizer, PorterStemmer"
   ]
  },
  {
   "cell_type": "code",
   "execution_count": 7,
   "id": "a4c4da34-4982-4023-b59b-1d29bc66b5c0",
   "metadata": {},
   "outputs": [
    {
     "name": "stdout",
     "output_type": "stream",
     "text": [
      "Original Words: ['ASIAN', 'EXPORTERS', 'FEAR', 'DAMAGE', 'FROM', 'U.S.-JAPAN', 'RIFT', 'Mounting', 'trade', 'friction', 'between', 'the', 'U.S.', 'And', 'Japan', 'has', 'raised', 'fears', 'among', 'many', 'of', 'Asia', \"'s\", 'exporting', 'nations', 'that', 'the', 'row', 'could', 'inflict', 'far-reaching', 'economic', 'damage', ',', 'businessmen', 'and', 'officials', 'said', '.', 'They', 'told', 'Reuter', 'correspondents', 'in', 'Asian', 'capitals', 'a', 'U.S.', 'Move', 'against', 'Japan', 'might', 'boost', 'protectionist', 'sentiment', 'in', 'the', 'U.S.', 'And', 'lead', 'to', 'curbs', 'on', 'American', 'imports', 'of', 'their', 'products', '.', 'But', 'some', 'exporters', 'said', 'that', 'while', 'the', 'conflict', 'would', 'hurt', 'them', 'in', 'the', 'long-run', ',', 'in', 'the', 'short-term', 'Tokyo', \"'s\", 'loss', 'might', 'be', 'their', 'gain', '.', 'The', 'U.S.', 'Has', 'said', 'it', 'will', 'impose', '300', 'mln', 'dlrs', 'of', 'tariffs', 'on', 'imports', 'of', 'Japanese', 'electronics', 'goods', 'on', 'April', '17', ',', 'in', 'retaliation', 'for', 'Japan', \"'s\", 'alleged', 'failure', 'to', 'stick', 'to', 'a', 'pact', 'not', 'to', 'sell', 'semiconductors', 'on', 'world', 'markets', 'at', 'below', 'cost', '.', 'Unofficial', 'Japanese', 'estimates', 'put', 'the', 'impact', 'of', 'the', 'tariffs', 'at', '10', 'billion', 'dlrs', 'and', 'spokesmen', 'for', 'major', 'electronics', 'firms', 'said', 'they', 'would', 'virtually', 'halt', 'exports', 'of', 'products', 'hit', 'by', 'the', 'new', 'taxes', '.', '``', 'We', 'would', \"n't\", 'be', 'able', 'to', 'do', 'business', ',', \"''\", 'said', 'a', 'spokesman', 'for', 'leading', 'Japanese', 'electronics', 'firm', 'Matsushita', 'Electric', 'Industrial', 'Co', 'Ltd', '&', 'lt', ';', 'MC.T', '>', '.', '``', 'If', 'the', 'tariffs', 'remain', 'in', 'place', 'for', 'any', 'length', 'of', 'time', 'beyond', 'a', 'few', 'months', 'it', 'will', 'mean', 'the', 'complete', 'erosion', 'of', 'exports', '(', 'of', 'goods', 'subject', 'to', 'tariffs', ')', 'to', 'the', 'U.S.', ',', \"''\", 'said', 'Tom', 'Murtha', ',', 'a', 'stock', 'analyst', 'at', 'the', 'Tokyo', 'office', 'of', 'broker', '&', 'lt', ';', 'James', 'Capel', 'and', 'Co', '>', '.', 'In', 'Taiwan', ',', 'businessmen', 'and', 'officials', 'are', 'also', 'worried', '.', '``', 'We', 'are', 'aware', 'of', 'the', 'seriousness', 'of', 'the', 'U.S', '.', 'Threat', 'against', 'Japan', 'because', 'it', 'serves', 'as', 'a', 'warning', 'to', 'us', ',', \"''\", 'said', 'a', 'senior', 'Taiwanese', 'trade', 'official', 'who', 'asked', 'not', 'to', 'be', 'named', '.', 'Taiwan', 'had', 'a', 'trade', 'trade', 'surplus', 'of', '15.6', 'billion', 'dlrs', 'last', 'year', ',', '95', 'pct', 'of', 'it', 'with', 'the', 'U.S', '.', 'The', 'surplus', 'helped', 'swell', 'Taiwan', \"'s\", 'foreign', 'exchange', 'reserves', 'to', '53', 'billion', 'dlrs', ',', 'among', 'the', 'world', \"'s\", 'largest', '.', '``', 'We', 'must', 'quickly', 'open', 'our', 'markets', ',', 'remove', 'trade', 'barriers', 'and', 'cut', 'import', 'tariffs', 'to', 'allow', 'imports', 'of', 'U.S.', 'Products', ',', 'if', 'we', 'want', 'to', 'defuse', 'problems', 'from', 'possible', 'U.S', '.', 'Retaliation', ',', \"''\", 'said', 'Paul', 'Sheen', ',', 'chairman', 'of', 'textile', 'exporters', '&', 'lt', ';', 'Taiwan', 'Safe', 'Group', '>', '.', 'A', 'senior', 'official', 'of', 'South', 'Korea', \"'s\", 'trade', 'promotion', 'association', 'said', 'the', 'trade', 'dispute', 'between', 'the', 'U.S.', 'And', 'Japan', 'might', 'also', 'lead', 'to', 'pressure', 'on', 'South', 'Korea', ',', 'whose', 'chief', 'exports', 'are', 'similar', 'to', 'those', 'of', 'Japan', '.', 'Last', 'year', 'South', 'Korea', 'had', 'a', 'trade', 'surplus', 'of', '7.1', 'billion', 'dlrs', 'with', 'the', 'U.S.', ',', 'Up', 'from', '4.9', 'billion', 'dlrs', 'in', '1985', '.', 'In', 'Malaysia', ',', 'trade', 'officers', 'and', 'businessmen', 'said', 'tough', 'curbs', 'against', 'Japan', 'might', 'allow', 'hard-hit', 'producers', 'of', 'semiconductors', 'in', 'third', 'countries', 'to', 'expand', 'their', 'sales', 'to', 'the', 'U.S', '.', 'In', 'Hong', 'Kong', ',', 'where', 'newspapers', 'have', 'alleged', 'Japan', 'has', 'been', 'selling', 'below-cost', 'semiconductors', ',', 'some', 'electronics', 'manufacturers', 'share', 'that', 'view', '.', 'But', 'other', 'businessmen', 'said', 'such', 'a', 'short-term', 'commercial', 'advantage', 'would', 'be', 'outweighed', 'by', 'further', 'U.S.', 'Pressure', 'to', 'block', 'imports', '.', '``', 'That', 'is', 'a', 'very', 'short-term', 'view', ',', \"''\", 'said', 'Lawrence', 'Mills', ',', 'director-general', 'of', 'the', 'Federation', 'of', 'Hong', 'Kong', 'Industry', '.', '``', 'If', 'the', 'whole', 'purpose', 'is', 'to', 'prevent', 'imports', ',', 'one', 'day', 'it', 'will', 'be', 'extended', 'to', 'other', 'sources', '.', 'Much', 'more', 'serious', 'for', 'Hong', 'Kong', 'is', 'the', 'disadvantage', 'of', 'action', 'restraining', 'trade', ',', \"''\", 'he', 'said', '.', 'The', 'U.S.', 'Last', 'year', 'was', 'Hong', 'Kong', \"'s\", 'biggest', 'export', 'market', ',', 'accounting', 'for', 'over', '30', 'pct', 'of', 'domestically', 'produced', 'exports', '.', 'The', 'Australian', 'government', 'is', 'awaiting', 'the', 'outcome', 'of', 'trade', 'talks', 'between', 'the', 'U.S.', 'And', 'Japan', 'with', 'interest', 'and', 'concern', ',', 'Industry', 'Minister', 'John', 'Button', 'said', 'in', 'Canberra', 'last', 'Friday', '.', '``', 'This', 'kind', 'of', 'deterioration', 'in', 'trade', 'relations', 'between', 'two', 'countries', 'which', 'are', 'major', 'trading', 'partners', 'of', 'ours', 'is', 'a', 'very', 'serious', 'matter', ',', \"''\", 'Button', 'said', '.', 'He', 'said', 'Australia', \"'s\", 'concerns', 'centred', 'on', 'coal', 'and', 'beef', ',', 'Australia', \"'s\", 'two', 'largest', 'exports', 'to', 'Japan', 'and', 'also', 'significant', 'U.S.', 'Exports', 'to', 'that', 'country', '.', 'Meanwhile', 'U.S.-Japanese', 'diplomatic', 'manoeuvres', 'to', 'solve', 'the', 'trade', 'stand-off', 'continue', '.', 'Japan', \"'s\", 'ruling', 'Liberal', 'Democratic', 'Party', 'yesterday', 'outlined', 'a', 'package', 'of', 'economic', 'measures', 'to', 'boost', 'the', 'Japanese', 'economy', '.', 'The', 'measures', 'proposed', 'include', 'a', 'large', 'supplementary', 'budget', 'and', 'record', 'public', 'works', 'spending', 'in', 'the', 'first', 'half', 'of', 'the', 'financial', 'year', '.', 'They', 'also', 'call', 'for', 'stepped-up', 'spending', 'as', 'an', 'emergency', 'measure', 'to', 'stimulate', 'the', 'economy', 'despite', 'Prime', 'Minister', 'Yasuhiro', 'Nakasone', \"'s\", 'avowed', 'fiscal', 'reform', 'program', '.', 'Deputy', 'U.S.', 'Trade', 'Representative', 'Michael', 'Smith', 'and', 'Makoto', 'Kuroda', ',', 'Japan', \"'s\", 'deputy', 'minister', 'of', 'International', 'Trade', 'and', 'Industry', '(', 'MITI', ')', ',', 'are', 'due', 'to', 'meet', 'in', 'Washington', 'this', 'week', 'in', 'an', 'effort', 'to', 'end', 'the', 'dispute', '.']\n"
     ]
    },
    {
     "name": "stderr",
     "output_type": "stream",
     "text": [
      "[nltk_data] Downloading package reuters to\n",
      "[nltk_data]     C:\\Users\\Dell\\AppData\\Roaming\\nltk_data...\n",
      "[nltk_data]   Package reuters is already up-to-date!\n"
     ]
    }
   ],
   "source": [
    "# Download WordNet resource, if not already downloaded\n",
    "nltk.download(\"reuters\")\n",
    "\n",
    "# Initialze Stemmer and Lemmatizer\n",
    "stemmer = PorterStemmer()\n",
    "lemmatizer = WordNetLemmatizer()\n",
    "\n",
    "#Sample text from Reuters corpus\n",
    "sample_text = reuters.raw('test/14826')\n",
    "\n",
    "# Tokenize the text\n",
    "words = word_tokenize(sample_text)\n",
    "\n",
    "# Perform stemming\n",
    "stemmed_words = [stemmer.stem(word) for word in words]\n",
    "\n",
    "# Perform Lemmatization\n",
    "lemmatized_words = [lemmatizer.lemmatize(word) for word in words]\n",
    "\n",
    "print(\"Original Words:\", words)"
   ]
  },
  {
   "cell_type": "code",
   "execution_count": 8,
   "id": "292da7cc-e0a7-4eec-b45c-6cbfd14807af",
   "metadata": {},
   "outputs": [
    {
     "name": "stdout",
     "output_type": "stream",
     "text": [
      "Stemmed words: ['asian', 'export', 'fear', 'damag', 'from', 'u.s.-japan', 'rift', 'mount', 'trade', 'friction', 'between', 'the', 'u.s.', 'and', 'japan', 'ha', 'rais', 'fear', 'among', 'mani', 'of', 'asia', \"'s\", 'export', 'nation', 'that', 'the', 'row', 'could', 'inflict', 'far-reach', 'econom', 'damag', ',', 'businessmen', 'and', 'offici', 'said', '.', 'they', 'told', 'reuter', 'correspond', 'in', 'asian', 'capit', 'a', 'u.s.', 'move', 'against', 'japan', 'might', 'boost', 'protectionist', 'sentiment', 'in', 'the', 'u.s.', 'and', 'lead', 'to', 'curb', 'on', 'american', 'import', 'of', 'their', 'product', '.', 'but', 'some', 'export', 'said', 'that', 'while', 'the', 'conflict', 'would', 'hurt', 'them', 'in', 'the', 'long-run', ',', 'in', 'the', 'short-term', 'tokyo', \"'s\", 'loss', 'might', 'be', 'their', 'gain', '.', 'the', 'u.s.', 'ha', 'said', 'it', 'will', 'impos', '300', 'mln', 'dlr', 'of', 'tariff', 'on', 'import', 'of', 'japanes', 'electron', 'good', 'on', 'april', '17', ',', 'in', 'retali', 'for', 'japan', \"'s\", 'alleg', 'failur', 'to', 'stick', 'to', 'a', 'pact', 'not', 'to', 'sell', 'semiconductor', 'on', 'world', 'market', 'at', 'below', 'cost', '.', 'unoffici', 'japanes', 'estim', 'put', 'the', 'impact', 'of', 'the', 'tariff', 'at', '10', 'billion', 'dlr', 'and', 'spokesmen', 'for', 'major', 'electron', 'firm', 'said', 'they', 'would', 'virtual', 'halt', 'export', 'of', 'product', 'hit', 'by', 'the', 'new', 'tax', '.', '``', 'we', 'would', \"n't\", 'be', 'abl', 'to', 'do', 'busi', ',', \"''\", 'said', 'a', 'spokesman', 'for', 'lead', 'japanes', 'electron', 'firm', 'matsushita', 'electr', 'industri', 'co', 'ltd', '&', 'lt', ';', 'mc.t', '>', '.', '``', 'if', 'the', 'tariff', 'remain', 'in', 'place', 'for', 'ani', 'length', 'of', 'time', 'beyond', 'a', 'few', 'month', 'it', 'will', 'mean', 'the', 'complet', 'eros', 'of', 'export', '(', 'of', 'good', 'subject', 'to', 'tariff', ')', 'to', 'the', 'u.s.', ',', \"''\", 'said', 'tom', 'murtha', ',', 'a', 'stock', 'analyst', 'at', 'the', 'tokyo', 'offic', 'of', 'broker', '&', 'lt', ';', 'jame', 'capel', 'and', 'co', '>', '.', 'in', 'taiwan', ',', 'businessmen', 'and', 'offici', 'are', 'also', 'worri', '.', '``', 'we', 'are', 'awar', 'of', 'the', 'serious', 'of', 'the', 'u.', '.', 'threat', 'against', 'japan', 'becaus', 'it', 'serv', 'as', 'a', 'warn', 'to', 'us', ',', \"''\", 'said', 'a', 'senior', 'taiwanes', 'trade', 'offici', 'who', 'ask', 'not', 'to', 'be', 'name', '.', 'taiwan', 'had', 'a', 'trade', 'trade', 'surplu', 'of', '15.6', 'billion', 'dlr', 'last', 'year', ',', '95', 'pct', 'of', 'it', 'with', 'the', 'u.', '.', 'the', 'surplu', 'help', 'swell', 'taiwan', \"'s\", 'foreign', 'exchang', 'reserv', 'to', '53', 'billion', 'dlr', ',', 'among', 'the', 'world', \"'s\", 'largest', '.', '``', 'we', 'must', 'quickli', 'open', 'our', 'market', ',', 'remov', 'trade', 'barrier', 'and', 'cut', 'import', 'tariff', 'to', 'allow', 'import', 'of', 'u.s.', 'product', ',', 'if', 'we', 'want', 'to', 'defus', 'problem', 'from', 'possibl', 'u.', '.', 'retali', ',', \"''\", 'said', 'paul', 'sheen', ',', 'chairman', 'of', 'textil', 'export', '&', 'lt', ';', 'taiwan', 'safe', 'group', '>', '.', 'a', 'senior', 'offici', 'of', 'south', 'korea', \"'s\", 'trade', 'promot', 'associ', 'said', 'the', 'trade', 'disput', 'between', 'the', 'u.s.', 'and', 'japan', 'might', 'also', 'lead', 'to', 'pressur', 'on', 'south', 'korea', ',', 'whose', 'chief', 'export', 'are', 'similar', 'to', 'those', 'of', 'japan', '.', 'last', 'year', 'south', 'korea', 'had', 'a', 'trade', 'surplu', 'of', '7.1', 'billion', 'dlr', 'with', 'the', 'u.s.', ',', 'up', 'from', '4.9', 'billion', 'dlr', 'in', '1985', '.', 'in', 'malaysia', ',', 'trade', 'offic', 'and', 'businessmen', 'said', 'tough', 'curb', 'against', 'japan', 'might', 'allow', 'hard-hit', 'produc', 'of', 'semiconductor', 'in', 'third', 'countri', 'to', 'expand', 'their', 'sale', 'to', 'the', 'u.', '.', 'in', 'hong', 'kong', ',', 'where', 'newspap', 'have', 'alleg', 'japan', 'ha', 'been', 'sell', 'below-cost', 'semiconductor', ',', 'some', 'electron', 'manufactur', 'share', 'that', 'view', '.', 'but', 'other', 'businessmen', 'said', 'such', 'a', 'short-term', 'commerci', 'advantag', 'would', 'be', 'outweigh', 'by', 'further', 'u.s.', 'pressur', 'to', 'block', 'import', '.', '``', 'that', 'is', 'a', 'veri', 'short-term', 'view', ',', \"''\", 'said', 'lawrenc', 'mill', ',', 'director-gener', 'of', 'the', 'feder', 'of', 'hong', 'kong', 'industri', '.', '``', 'if', 'the', 'whole', 'purpos', 'is', 'to', 'prevent', 'import', ',', 'one', 'day', 'it', 'will', 'be', 'extend', 'to', 'other', 'sourc', '.', 'much', 'more', 'seriou', 'for', 'hong', 'kong', 'is', 'the', 'disadvantag', 'of', 'action', 'restrain', 'trade', ',', \"''\", 'he', 'said', '.', 'the', 'u.s.', 'last', 'year', 'wa', 'hong', 'kong', \"'s\", 'biggest', 'export', 'market', ',', 'account', 'for', 'over', '30', 'pct', 'of', 'domest', 'produc', 'export', '.', 'the', 'australian', 'govern', 'is', 'await', 'the', 'outcom', 'of', 'trade', 'talk', 'between', 'the', 'u.s.', 'and', 'japan', 'with', 'interest', 'and', 'concern', ',', 'industri', 'minist', 'john', 'button', 'said', 'in', 'canberra', 'last', 'friday', '.', '``', 'thi', 'kind', 'of', 'deterior', 'in', 'trade', 'relat', 'between', 'two', 'countri', 'which', 'are', 'major', 'trade', 'partner', 'of', 'our', 'is', 'a', 'veri', 'seriou', 'matter', ',', \"''\", 'button', 'said', '.', 'he', 'said', 'australia', \"'s\", 'concern', 'centr', 'on', 'coal', 'and', 'beef', ',', 'australia', \"'s\", 'two', 'largest', 'export', 'to', 'japan', 'and', 'also', 'signific', 'u.s.', 'export', 'to', 'that', 'countri', '.', 'meanwhil', 'u.s.-japanes', 'diplomat', 'manoeuvr', 'to', 'solv', 'the', 'trade', 'stand-off', 'continu', '.', 'japan', \"'s\", 'rule', 'liber', 'democrat', 'parti', 'yesterday', 'outlin', 'a', 'packag', 'of', 'econom', 'measur', 'to', 'boost', 'the', 'japanes', 'economi', '.', 'the', 'measur', 'propos', 'includ', 'a', 'larg', 'supplementari', 'budget', 'and', 'record', 'public', 'work', 'spend', 'in', 'the', 'first', 'half', 'of', 'the', 'financi', 'year', '.', 'they', 'also', 'call', 'for', 'stepped-up', 'spend', 'as', 'an', 'emerg', 'measur', 'to', 'stimul', 'the', 'economi', 'despit', 'prime', 'minist', 'yasuhiro', 'nakason', \"'s\", 'avow', 'fiscal', 'reform', 'program', '.', 'deputi', 'u.s.', 'trade', 'repres', 'michael', 'smith', 'and', 'makoto', 'kuroda', ',', 'japan', \"'s\", 'deputi', 'minist', 'of', 'intern', 'trade', 'and', 'industri', '(', 'miti', ')', ',', 'are', 'due', 'to', 'meet', 'in', 'washington', 'thi', 'week', 'in', 'an', 'effort', 'to', 'end', 'the', 'disput', '.']\n"
     ]
    }
   ],
   "source": [
    "print(\"Stemmed words:\", stemmed_words)"
   ]
  },
  {
   "cell_type": "code",
   "execution_count": 9,
   "id": "ad15a692-fa38-4706-a9b9-9f430d2344fe",
   "metadata": {},
   "outputs": [
    {
     "name": "stdout",
     "output_type": "stream",
     "text": [
      "False\n"
     ]
    }
   ],
   "source": [
    "print(words == stemmed_words)"
   ]
  },
  {
   "cell_type": "code",
   "execution_count": 10,
   "id": "36c89ba3-81d3-4ec2-b571-a30873e538dd",
   "metadata": {},
   "outputs": [
    {
     "name": "stdout",
     "output_type": "stream",
     "text": [
      "Lemmatized words: ['ASIAN', 'EXPORTERS', 'FEAR', 'DAMAGE', 'FROM', 'U.S.-JAPAN', 'RIFT', 'Mounting', 'trade', 'friction', 'between', 'the', 'U.S.', 'And', 'Japan', 'ha', 'raised', 'fear', 'among', 'many', 'of', 'Asia', \"'s\", 'exporting', 'nation', 'that', 'the', 'row', 'could', 'inflict', 'far-reaching', 'economic', 'damage', ',', 'businessmen', 'and', 'official', 'said', '.', 'They', 'told', 'Reuter', 'correspondent', 'in', 'Asian', 'capital', 'a', 'U.S.', 'Move', 'against', 'Japan', 'might', 'boost', 'protectionist', 'sentiment', 'in', 'the', 'U.S.', 'And', 'lead', 'to', 'curb', 'on', 'American', 'import', 'of', 'their', 'product', '.', 'But', 'some', 'exporter', 'said', 'that', 'while', 'the', 'conflict', 'would', 'hurt', 'them', 'in', 'the', 'long-run', ',', 'in', 'the', 'short-term', 'Tokyo', \"'s\", 'loss', 'might', 'be', 'their', 'gain', '.', 'The', 'U.S.', 'Has', 'said', 'it', 'will', 'impose', '300', 'mln', 'dlrs', 'of', 'tariff', 'on', 'import', 'of', 'Japanese', 'electronics', 'good', 'on', 'April', '17', ',', 'in', 'retaliation', 'for', 'Japan', \"'s\", 'alleged', 'failure', 'to', 'stick', 'to', 'a', 'pact', 'not', 'to', 'sell', 'semiconductor', 'on', 'world', 'market', 'at', 'below', 'cost', '.', 'Unofficial', 'Japanese', 'estimate', 'put', 'the', 'impact', 'of', 'the', 'tariff', 'at', '10', 'billion', 'dlrs', 'and', 'spokesman', 'for', 'major', 'electronics', 'firm', 'said', 'they', 'would', 'virtually', 'halt', 'export', 'of', 'product', 'hit', 'by', 'the', 'new', 'tax', '.', '``', 'We', 'would', \"n't\", 'be', 'able', 'to', 'do', 'business', ',', \"''\", 'said', 'a', 'spokesman', 'for', 'leading', 'Japanese', 'electronics', 'firm', 'Matsushita', 'Electric', 'Industrial', 'Co', 'Ltd', '&', 'lt', ';', 'MC.T', '>', '.', '``', 'If', 'the', 'tariff', 'remain', 'in', 'place', 'for', 'any', 'length', 'of', 'time', 'beyond', 'a', 'few', 'month', 'it', 'will', 'mean', 'the', 'complete', 'erosion', 'of', 'export', '(', 'of', 'good', 'subject', 'to', 'tariff', ')', 'to', 'the', 'U.S.', ',', \"''\", 'said', 'Tom', 'Murtha', ',', 'a', 'stock', 'analyst', 'at', 'the', 'Tokyo', 'office', 'of', 'broker', '&', 'lt', ';', 'James', 'Capel', 'and', 'Co', '>', '.', 'In', 'Taiwan', ',', 'businessmen', 'and', 'official', 'are', 'also', 'worried', '.', '``', 'We', 'are', 'aware', 'of', 'the', 'seriousness', 'of', 'the', 'U.S', '.', 'Threat', 'against', 'Japan', 'because', 'it', 'serf', 'a', 'a', 'warning', 'to', 'u', ',', \"''\", 'said', 'a', 'senior', 'Taiwanese', 'trade', 'official', 'who', 'asked', 'not', 'to', 'be', 'named', '.', 'Taiwan', 'had', 'a', 'trade', 'trade', 'surplus', 'of', '15.6', 'billion', 'dlrs', 'last', 'year', ',', '95', 'pct', 'of', 'it', 'with', 'the', 'U.S', '.', 'The', 'surplus', 'helped', 'swell', 'Taiwan', \"'s\", 'foreign', 'exchange', 'reserve', 'to', '53', 'billion', 'dlrs', ',', 'among', 'the', 'world', \"'s\", 'largest', '.', '``', 'We', 'must', 'quickly', 'open', 'our', 'market', ',', 'remove', 'trade', 'barrier', 'and', 'cut', 'import', 'tariff', 'to', 'allow', 'import', 'of', 'U.S.', 'Products', ',', 'if', 'we', 'want', 'to', 'defuse', 'problem', 'from', 'possible', 'U.S', '.', 'Retaliation', ',', \"''\", 'said', 'Paul', 'Sheen', ',', 'chairman', 'of', 'textile', 'exporter', '&', 'lt', ';', 'Taiwan', 'Safe', 'Group', '>', '.', 'A', 'senior', 'official', 'of', 'South', 'Korea', \"'s\", 'trade', 'promotion', 'association', 'said', 'the', 'trade', 'dispute', 'between', 'the', 'U.S.', 'And', 'Japan', 'might', 'also', 'lead', 'to', 'pressure', 'on', 'South', 'Korea', ',', 'whose', 'chief', 'export', 'are', 'similar', 'to', 'those', 'of', 'Japan', '.', 'Last', 'year', 'South', 'Korea', 'had', 'a', 'trade', 'surplus', 'of', '7.1', 'billion', 'dlrs', 'with', 'the', 'U.S.', ',', 'Up', 'from', '4.9', 'billion', 'dlrs', 'in', '1985', '.', 'In', 'Malaysia', ',', 'trade', 'officer', 'and', 'businessmen', 'said', 'tough', 'curb', 'against', 'Japan', 'might', 'allow', 'hard-hit', 'producer', 'of', 'semiconductor', 'in', 'third', 'country', 'to', 'expand', 'their', 'sale', 'to', 'the', 'U.S', '.', 'In', 'Hong', 'Kong', ',', 'where', 'newspaper', 'have', 'alleged', 'Japan', 'ha', 'been', 'selling', 'below-cost', 'semiconductor', ',', 'some', 'electronics', 'manufacturer', 'share', 'that', 'view', '.', 'But', 'other', 'businessmen', 'said', 'such', 'a', 'short-term', 'commercial', 'advantage', 'would', 'be', 'outweighed', 'by', 'further', 'U.S.', 'Pressure', 'to', 'block', 'import', '.', '``', 'That', 'is', 'a', 'very', 'short-term', 'view', ',', \"''\", 'said', 'Lawrence', 'Mills', ',', 'director-general', 'of', 'the', 'Federation', 'of', 'Hong', 'Kong', 'Industry', '.', '``', 'If', 'the', 'whole', 'purpose', 'is', 'to', 'prevent', 'import', ',', 'one', 'day', 'it', 'will', 'be', 'extended', 'to', 'other', 'source', '.', 'Much', 'more', 'serious', 'for', 'Hong', 'Kong', 'is', 'the', 'disadvantage', 'of', 'action', 'restraining', 'trade', ',', \"''\", 'he', 'said', '.', 'The', 'U.S.', 'Last', 'year', 'wa', 'Hong', 'Kong', \"'s\", 'biggest', 'export', 'market', ',', 'accounting', 'for', 'over', '30', 'pct', 'of', 'domestically', 'produced', 'export', '.', 'The', 'Australian', 'government', 'is', 'awaiting', 'the', 'outcome', 'of', 'trade', 'talk', 'between', 'the', 'U.S.', 'And', 'Japan', 'with', 'interest', 'and', 'concern', ',', 'Industry', 'Minister', 'John', 'Button', 'said', 'in', 'Canberra', 'last', 'Friday', '.', '``', 'This', 'kind', 'of', 'deterioration', 'in', 'trade', 'relation', 'between', 'two', 'country', 'which', 'are', 'major', 'trading', 'partner', 'of', 'ours', 'is', 'a', 'very', 'serious', 'matter', ',', \"''\", 'Button', 'said', '.', 'He', 'said', 'Australia', \"'s\", 'concern', 'centred', 'on', 'coal', 'and', 'beef', ',', 'Australia', \"'s\", 'two', 'largest', 'export', 'to', 'Japan', 'and', 'also', 'significant', 'U.S.', 'Exports', 'to', 'that', 'country', '.', 'Meanwhile', 'U.S.-Japanese', 'diplomatic', 'manoeuvre', 'to', 'solve', 'the', 'trade', 'stand-off', 'continue', '.', 'Japan', \"'s\", 'ruling', 'Liberal', 'Democratic', 'Party', 'yesterday', 'outlined', 'a', 'package', 'of', 'economic', 'measure', 'to', 'boost', 'the', 'Japanese', 'economy', '.', 'The', 'measure', 'proposed', 'include', 'a', 'large', 'supplementary', 'budget', 'and', 'record', 'public', 'work', 'spending', 'in', 'the', 'first', 'half', 'of', 'the', 'financial', 'year', '.', 'They', 'also', 'call', 'for', 'stepped-up', 'spending', 'a', 'an', 'emergency', 'measure', 'to', 'stimulate', 'the', 'economy', 'despite', 'Prime', 'Minister', 'Yasuhiro', 'Nakasone', \"'s\", 'avowed', 'fiscal', 'reform', 'program', '.', 'Deputy', 'U.S.', 'Trade', 'Representative', 'Michael', 'Smith', 'and', 'Makoto', 'Kuroda', ',', 'Japan', \"'s\", 'deputy', 'minister', 'of', 'International', 'Trade', 'and', 'Industry', '(', 'MITI', ')', ',', 'are', 'due', 'to', 'meet', 'in', 'Washington', 'this', 'week', 'in', 'an', 'effort', 'to', 'end', 'the', 'dispute', '.']\n"
     ]
    }
   ],
   "source": [
    "print(\"Lemmatized words:\", lemmatized_words)"
   ]
  },
  {
   "cell_type": "code",
   "execution_count": null,
   "id": "2b1e7001-cf92-451c-94e8-b51964372898",
   "metadata": {},
   "outputs": [],
   "source": []
  }
 ],
 "metadata": {
  "kernelspec": {
   "display_name": "Python 3 (ipykernel)",
   "language": "python",
   "name": "python3"
  },
  "language_info": {
   "codemirror_mode": {
    "name": "ipython",
    "version": 3
   },
   "file_extension": ".py",
   "mimetype": "text/x-python",
   "name": "python",
   "nbconvert_exporter": "python",
   "pygments_lexer": "ipython3",
   "version": "3.10.1"
  }
 },
 "nbformat": 4,
 "nbformat_minor": 5
}
