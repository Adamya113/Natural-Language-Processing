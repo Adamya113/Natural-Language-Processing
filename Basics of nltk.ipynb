{
 "cells": [
  {
   "cell_type": "code",
   "execution_count": 1,
   "id": "455c3447-9f75-4e26-a090-0f495581275d",
   "metadata": {},
   "outputs": [],
   "source": [
    "import nltk"
   ]
  },
  {
   "cell_type": "code",
   "execution_count": null,
   "id": "f4afe817-be72-4980-887c-89dc2d608b89",
   "metadata": {
    "scrolled": true
   },
   "outputs": [],
   "source": [
    "nltk.download(\"popular\")"
   ]
  },
  {
   "cell_type": "markdown",
   "id": "a2551eab-f463-48e3-9ca2-c1adfb00af0c",
   "metadata": {},
   "source": [
    "# Tokenization"
   ]
  },
  {
   "cell_type": "code",
   "execution_count": 4,
   "id": "37ad0ad5-6884-48b4-9766-0e65b70da0f1",
   "metadata": {},
   "outputs": [],
   "source": [
    "from nltk.tokenize import word_tokenize, sent_tokenize"
   ]
  },
  {
   "cell_type": "code",
   "execution_count": 5,
   "id": "2a79161a-ca96-4acf-9a42-dbb8850a076a",
   "metadata": {},
   "outputs": [
    {
     "name": "stdout",
     "output_type": "stream",
     "text": [
      "Word tokens: ['This', 'is', 'a', 'sentence', 'for', 'NLTK', '.', 'It', 'is', 'a', 'python', 'library', 'for', 'natural', 'language', 'processing', '.']\n",
      "Sentence tokens: ['This is a sentence for NLTK.', 'It is a python library for natural language processing.']\n"
     ]
    }
   ],
   "source": [
    "text = \"This is a sentence for NLTK. It is a python library for natural language processing.\"\n",
    "words = word_tokenize(text)\n",
    "sentences = sent_tokenize(text)\n",
    "print(\"Word tokens:\", words)\n",
    "print(\"Sentence tokens:\", sentences)"
   ]
  },
  {
   "cell_type": "markdown",
   "id": "fd931f89-b957-4266-8406-d4b3212242c2",
   "metadata": {},
   "source": [
    "# Part-of-speech (POS) tagging "
   ]
  },
  {
   "cell_type": "markdown",
   "id": "1b553d6a-0596-4c01-b1d1-718426f2165f",
   "metadata": {},
   "source": [
    "### Some exapmles: DT: determiner; IN: preposition or conjunction, subordinating; VBZ: verb, present tense, 3rd person singular"
   ]
  },
  {
   "cell_type": "code",
   "execution_count": 13,
   "id": "52a266cf-60f6-4bbc-80a7-0cde44e4919c",
   "metadata": {},
   "outputs": [
    {
     "name": "stdout",
     "output_type": "stream",
     "text": [
      "Part of speech tags\n",
      "('This', 'DT')\n",
      "('is', 'VBZ')\n",
      "('a', 'DT')\n",
      "('sentence', 'NN')\n",
      "('for', 'IN')\n",
      "('NLTK', 'NNP')\n",
      "('.', '.')\n",
      "('It', 'PRP')\n",
      "('is', 'VBZ')\n",
      "('a', 'DT')\n",
      "('python', 'JJ')\n",
      "('library', 'NN')\n",
      "('for', 'IN')\n",
      "('natural', 'JJ')\n",
      "('language', 'NN')\n",
      "('processing', 'NN')\n",
      "('.', '.')\n"
     ]
    }
   ],
   "source": [
    "from nltk import pos_tag\n",
    "pos_tags = pos_tag(words)\n",
    "print(\"Part of speech tags\")\n",
    "for groups in pos_tags:\n",
    "    print(groups)"
   ]
  },
  {
   "cell_type": "markdown",
   "id": "f8b3d432-cc7c-44e0-8034-5ea79a2f6498",
   "metadata": {},
   "source": [
    "# Lemmatization"
   ]
  },
  {
   "cell_type": "code",
   "execution_count": 14,
   "id": "7a610509-afd3-41ab-a073-f79365de65ac",
   "metadata": {},
   "outputs": [
    {
     "name": "stdout",
     "output_type": "stream",
     "text": [
      "Lemmatized words: ['This', 'is', 'a', 'sentence', 'for', 'NLTK', '.', 'It', 'is', 'a', 'python', 'library', 'for', 'natural', 'language', 'processing', '.']\n"
     ]
    }
   ],
   "source": [
    "from nltk.stem import WordNetLemmatizer\n",
    "lemmatizer = WordNetLemmatizer()\n",
    "lemmatized_words = [lemmatizer.lemmatize(word) for word in words]\n",
    "print(\"Lemmatized words:\", lemmatized_words)"
   ]
  },
  {
   "cell_type": "markdown",
   "id": "851cb46b-1926-4be5-bd44-27edc283ba0a",
   "metadata": {},
   "source": [
    "# Named Entity Recognition (NER)"
   ]
  },
  {
   "cell_type": "code",
   "execution_count": 16,
   "id": "a06749f2-549c-47c0-86c2-3bc06489347b",
   "metadata": {},
   "outputs": [
    {
     "name": "stdout",
     "output_type": "stream",
     "text": [
      "Named Entities:\n",
      "(S\n",
      "  (PERSON Steve/NNP)\n",
      "  (PERSON Jobs/NNP)\n",
      "  was/VBD\n",
      "  the/DT\n",
      "  (ORGANIZATION CEO/NNP)\n",
      "  of/IN\n",
      "  (ORGANIZATION Apple/NNP Inc./NNP)\n",
      "  located/VBD\n",
      "  in/IN\n",
      "  (GPE California/NNP)\n",
      "  ./.)\n"
     ]
    }
   ],
   "source": [
    "from nltk import ne_chunk\n",
    "text = \"Steve Jobs was the CEO of Apple Inc. located in California.\"\n",
    "words = word_tokenize(text)\n",
    "pos_tags = pos_tag(words)\n",
    "named_entities = ne_chunk(pos_tags)\n",
    "print(\"Named Entities:\")\n",
    "print(named_entities)"
   ]
  },
  {
   "cell_type": "code",
   "execution_count": null,
   "id": "9811312b-970b-46c5-8433-72da938ed268",
   "metadata": {},
   "outputs": [],
   "source": []
  }
 ],
 "metadata": {
  "kernelspec": {
   "display_name": "Python 3 (ipykernel)",
   "language": "python",
   "name": "python3"
  },
  "language_info": {
   "codemirror_mode": {
    "name": "ipython",
    "version": 3
   },
   "file_extension": ".py",
   "mimetype": "text/x-python",
   "name": "python",
   "nbconvert_exporter": "python",
   "pygments_lexer": "ipython3",
   "version": "3.10.1"
  }
 },
 "nbformat": 4,
 "nbformat_minor": 5
}
