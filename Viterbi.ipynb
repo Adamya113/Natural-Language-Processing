{
 "cells": [
  {
   "cell_type": "code",
   "execution_count": 42,
   "id": "d0f12432-0db0-46fa-9c66-3cd3dde9aad0",
   "metadata": {},
   "outputs": [],
   "source": [
    "states = ('Noun', 'Verb', 'Adjective')\n",
    "\n",
    "observations = ('I', 'am', 'happy')\n",
    "\n",
    "start_probability = {'Noun': 0.2, 'Verb': 0.3, 'Adjective':0.5}\n",
    "\n",
    "transition_probability = {\n",
    "'Noun' : {'Noun': 0.4, 'Verb': 0.3, 'Adjective':0.3},\n",
    "'Verb' : {'Noun': 0.2, 'Verb': 0.5, 'Adjective':0.3},\n",
    "'Adjective' : {'Noun': 0.1, 'Verb': 0.2, 'Adjective':0.7},\n",
    "}\n",
    "\n",
    "emission_probability = {\n",
    "'Noun' : {'I': 0.1, 'am': 0.9, 'happy':0.0},\n",
    "'Verb' : {'I': 0.8, 'am': 0.2, 'happy':0.0},\n",
    "'Adjective' : {'I': 0.0, 'am': 0.0, 'happy':1.0}\n",
    "}\n"
   ]
  },
  {
   "cell_type": "code",
   "execution_count": 43,
   "id": "9d390b00-7983-44ab-96c8-e85cec51c366",
   "metadata": {},
   "outputs": [],
   "source": [
    "\n",
    "def viterbi(obs, states, start_p, trans_p, emit_p):\n",
    "    V = [{}]\n",
    "    for st in states:\n",
    "        V[0][st] = {\"prob\": start_p[st] * emit_p[st][obs[0]], \"prev\": None}\n",
    "    for t in range(1, len(obs)):\n",
    "        V.append({})\n",
    "        for st in states:\n",
    "            max_tr_prob = max(V[t-1][prev_st][\"prob\"]*trans_p[prev_st][st] for prev_st in states)\n",
    "            for prev_st in states:\n",
    "                if V[t-1][prev_st][\"prob\"]*trans_p[prev_st][st] == max_tr_prob:\n",
    "                    max_prob = max_tr_prob * emit_p[st][obs[t]]\n",
    "                    V[t][st] = {\"prob\": max_prob, \"prev\": prev_st}\n",
    "                    break\n",
    "    return V\n"
   ]
  },
  {
   "cell_type": "code",
   "execution_count": 44,
   "id": "a4ce9eaf-cc3d-4487-82df-43b261bd1ade",
   "metadata": {},
   "outputs": [],
   "source": [
    "results = viterbi(observations,\n",
    "         states,\n",
    "         start_probability,\n",
    "         transition_probability,\n",
    "         emission_probability)"
   ]
  },
  {
   "cell_type": "code",
   "execution_count": 45,
   "id": "60c1bf83-c109-4350-8da1-7801e981c87f",
   "metadata": {},
   "outputs": [
    {
     "name": "stdout",
     "output_type": "stream",
     "text": [
      "{'Noun': {'prob': 0.020000000000000004, 'prev': None}, 'Verb': {'prob': 0.24, 'prev': None}, 'Adjective': {'prob': 0.0, 'prev': None}}\n",
      "{'Noun': {'prob': 0.0432, 'prev': 'Verb'}, 'Verb': {'prob': 0.024, 'prev': 'Verb'}, 'Adjective': {'prob': 0.0, 'prev': 'Verb'}}\n",
      "{'Noun': {'prob': 0.0, 'prev': 'Noun'}, 'Verb': {'prob': 0.0, 'prev': 'Noun'}, 'Adjective': {'prob': 0.012960000000000001, 'prev': 'Noun'}}\n"
     ]
    }
   ],
   "source": [
    "for result in results:\n",
    "    print(result)"
   ]
  },
  {
   "cell_type": "code",
   "execution_count": null,
   "id": "dfa16e39-1b2d-4513-8047-fde7dcbc9a82",
   "metadata": {},
   "outputs": [],
   "source": []
  }
 ],
 "metadata": {
  "kernelspec": {
   "display_name": "Python 3 (ipykernel)",
   "language": "python",
   "name": "python3"
  },
  "language_info": {
   "codemirror_mode": {
    "name": "ipython",
    "version": 3
   },
   "file_extension": ".py",
   "mimetype": "text/x-python",
   "name": "python",
   "nbconvert_exporter": "python",
   "pygments_lexer": "ipython3",
   "version": "3.10.1"
  }
 },
 "nbformat": 4,
 "nbformat_minor": 5
}
